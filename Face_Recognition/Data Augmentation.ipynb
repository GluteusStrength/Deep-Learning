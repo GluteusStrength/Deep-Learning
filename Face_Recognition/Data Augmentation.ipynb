{
 "cells": [
  {
   "cell_type": "code",
   "execution_count": null,
   "id": "3710e5f0",
   "metadata": {},
   "outputs": [],
   "source": [
    "# pip install imgaug"
   ]
  },
  {
   "cell_type": "code",
   "execution_count": 1,
   "id": "7145b3ef",
   "metadata": {},
   "outputs": [],
   "source": [
    "import random\n",
    "import numpy as np\n",
    "import os\n",
    "import shutil\n",
    "import cv2\n",
    "import imgaug as ia\n",
    "import imgaug.augmenters as iaa\n",
    "import matplotlib.pyplot as plt\n",
    "from imgaug.augmentables.bbs import BoundingBox, BoundingBoxesOnImage\n",
    "from PIL import Image\n",
    "import PIL.ImageOps\n",
    "# imgaug의 시드 고정\n",
    "ia.seed(42)"
   ]
  },
  {
   "cell_type": "code",
   "execution_count": 2,
   "id": "99300c00",
   "metadata": {},
   "outputs": [
    {
     "data": {
      "text/plain": [
       "'C:\\\\Users\\\\user\\\\Desktop\\\\recognition_project'"
      ]
     },
     "execution_count": 2,
     "metadata": {},
     "output_type": "execute_result"
    }
   ],
   "source": [
    "pwd"
   ]
  },
  {
   "cell_type": "code",
   "execution_count": 3,
   "id": "141459fb",
   "metadata": {},
   "outputs": [
    {
     "name": "stdout",
     "output_type": "stream",
     "text": [
      "C:\\Users\\user\\Desktop\\recognition_project\\yolov5\\archive\n"
     ]
    }
   ],
   "source": [
    "%cd \"./yolov5/archive\""
   ]
  },
  {
   "cell_type": "code",
   "execution_count": 4,
   "id": "10fc074b",
   "metadata": {},
   "outputs": [],
   "source": [
    "def route(t):\n",
    "    file_path = os.path.join(\"./images\", t)\n",
    "    pth = []\n",
    "    for f in os.listdir(file_path):\n",
    "        pth.append(os.path.join(file_path, f))\n",
    "    return pth\n",
    "pth_tr = route(\"train\")\n",
    "pth_val = route(\"valid\")"
   ]
  },
  {
   "cell_type": "code",
   "execution_count": 5,
   "id": "2bea368e",
   "metadata": {},
   "outputs": [],
   "source": [
    "def annot_route(t):\n",
    "    file_path = os.path.join(\"./labels\", t)\n",
    "    pth = []\n",
    "    for f in os.listdir(file_path):\n",
    "        pth.append(os.path.join(file_path, f))\n",
    "    return pth\n",
    "annot_tr = annot_route(\"train\")\n",
    "annot_val = annot_route(\"valid\")"
   ]
  },
  {
   "cell_type": "code",
   "execution_count": 6,
   "id": "b0756a31",
   "metadata": {},
   "outputs": [],
   "source": [
    "d_set = [[pth_tr, annot_tr], [pth_val, annot_val]]"
   ]
  },
  {
   "cell_type": "markdown",
   "id": "f80ecf95",
   "metadata": {},
   "source": [
    "### Data Augmentation 하기 전 파악해야 할 사항\n",
    "- Rotation \n",
    "1. annotation 파일 저장 시에 정규화를 진행했는가?\n",
    "    - 진행했음\n",
    "    - affine transform 하기 전에 다시 복구 시켜서 진행할 것\n",
    "    - x_center의 경우는 image의 width로 나눴다(image.size[0])\n",
    "    - y_center의 경우는 image의 height로 나눴다(image.size[1])\n",
    "2. x1, y1, x2, y2는 각각 어떤 것인가?\n",
    "    - x1의 경우는 이미지의 x축의 좌측 끝, x2는 우측 끝\n",
    "    - y1은 이미지의 y축의 가장 아래, y2는 가장 위"
   ]
  },
  {
   "cell_type": "code",
   "execution_count": 16,
   "id": "53762a23",
   "metadata": {},
   "outputs": [],
   "source": [
    "def make_noise(std, img):\n",
    "    height, width, ch = img.shape\n",
    "    # 각 channel에 적용\n",
    "    # 하나 더 추가\n",
    "    # 빈 배열 형성\n",
    "    img_noise = np.zeros((height, width, ch), dtype = np.float)\n",
    "    for i in range(height):\n",
    "        for j in range(width):\n",
    "            for k in range(ch):\n",
    "                # gaussian distribution을 따르는 random 숫자를 넣는다\n",
    "                mk_noise = np.random.normal()\n",
    "                set_noise = std * mk_noise\n",
    "                noise_input = img[i][j][k] + set_noise\n",
    "                if noise_input > 255:\n",
    "                    noise_input = 255\n",
    "                if noise_input < 0:\n",
    "                    noise_input = 255\n",
    "                img_noise[i][j][k] = noise_input\n",
    "    return img_noise"
   ]
  },
  {
   "cell_type": "code",
   "execution_count": 19,
   "id": "aff35c6f",
   "metadata": {},
   "outputs": [],
   "source": [
    "def data_augmentation(random_n, img, annot, n):\n",
    "    image = cv2.imread(img)\n",
    "    img_pth = img\n",
    "    img_annot = annot\n",
    "    # rotate\n",
    "    if random_n == 1:\n",
    "        # annotation file을 읽는다.\n",
    "        f = open(img_annot)\n",
    "        bbx = f.readlines()\n",
    "        # normalize된 것을 복구하기 위한 작업\n",
    "        d_w = image.shape[0] # 폭\n",
    "        d_h = image.shape[1] # 높이\n",
    "        # 하나씩 읽어온다.\n",
    "        class_no = []\n",
    "        for i in range(len(bbx)):\n",
    "            bbxs = bbx[i].split(\" \")\n",
    "            for j in range(len(bbxs)):\n",
    "                # 이는 class에 해당한다.\n",
    "                if j == 0:\n",
    "                    bbxs[j] = int(bbxs[j])\n",
    "                    class_no.append(int(bbxs[j]))\n",
    "                # str 형태를 float으로 바꿔온다\n",
    "                else:\n",
    "                    x = float(bbxs[j])\n",
    "                    bbxs[j] = x\n",
    "            # 대체하는 작업\n",
    "            bbx[i] = bbxs\n",
    "        # 작업해야할 bounding box\n",
    "        bbx_new = []\n",
    "        for i in range(len(bbx)):\n",
    "            # 원래의 x_center\n",
    "            x_center = bbx[i][1] * d_w\n",
    "            # 원래의 y_center\n",
    "            y_center = bbx[i][2] * d_h\n",
    "            # 원래의 폭\n",
    "            w = bbx[i][3] * d_w\n",
    "            # 원래의 높이\n",
    "            h = bbx[i][4] * d_h\n",
    "            # x1, x2는 각각 boundingbox의 x좌표의 양 끝단\n",
    "            # y1, y2는 각각 boundingbox의 y좌표의 양 끝단\n",
    "            x1 = int(x_center - w/2)\n",
    "            y1 = int(y_center - h/2)\n",
    "            x2 = int(x_center + w/2)\n",
    "            y2 = int(y_center + h/2)\n",
    "            bbx_new.append([x1, y1, x2, y2])\n",
    "        # 정규화 -> 원 상태\n",
    "        # 여기에 이제 rotation을 적용\n",
    "        # ia_bbxs는 우선 data augmentation을 적용시키기 위한 사전 작업\n",
    "        ia_bbxs = []\n",
    "        for b in bbx_new:\n",
    "            ia_bbxs.append(BoundingBox(x1 = b[0], y1 = b[1], x2 = b[2], y2 = b[3]))\n",
    "        bound_box = BoundingBoxesOnImage(ia_bbxs, shape = image.shape)\n",
    "        # 180도 회전을 다음과 같이 진행한다.\n",
    "        seq = iaa.Sequential([iaa.Affine(rotate = 180)])\n",
    "        # 180도 회전 적용\n",
    "        img_aug, bbx_aug = seq(image = image, bounding_boxes = bound_box)\n",
    "        # 이미지를 각 파일에 저장\n",
    "        storage_dir = os.path.join(img_pth[:14], \"rotation\"+str(n)+\".png\")\n",
    "        cv2.imwrite(storage_dir, img_aug)\n",
    "        # annotation file 역시 저장\n",
    "        # 똑같이 정규화를 시켜서 저장한다.\n",
    "        annot_file_path = os.path.join(img_annot[:14], \"rotation\"+str(n)+\".txt\")\n",
    "        with open(annot_file_path, \"w\") as f:\n",
    "            for a in range(len(bbx_aug)):\n",
    "                class_id = class_no[a]\n",
    "                # opencv의 경우는 높이, 폭, 채널 순서\n",
    "                dx = 1/int(image.shape[1])\n",
    "                dy = 1/int(image.shape[0])\n",
    "                x1 = bbx_aug[a][0][0]\n",
    "                x2 = bbx_aug[a][1][0]\n",
    "                y1 = bbx_aug[a][0][1]\n",
    "                y2 = bbx_aug[a][1][1]\n",
    "                x_center = (x1+x2)/2 * dx\n",
    "                y_center = (y1+y2)/2 * dy\n",
    "                w = (x2-x1) * dx\n",
    "                h = (y2-y1) * dy\n",
    "                f.write(f\"{class_id} {x_center:.5f} {y_center:.5f} {w:.5f} {h:.5f}\\n\")\n",
    "    # Noise 추가\n",
    "    # 기본적으로 noise로는 Gaussian noise를 추가한다.\n",
    "    else:\n",
    "        noise_img = make_noise(12, image)\n",
    "        storage_dir = os.path.join(img_pth[:14], \"noise\"+str(n)+\".png\")\n",
    "        # 이미지 저장\n",
    "        cv2.imwrite(storage_dir, noise_img)\n",
    "        # annotation 저장\n",
    "        new_annot_file_path = os.path.join(img_annot[:14], \"noise\"+str(n)+\".txt\")\n",
    "        original_annot_path = img_annot\n",
    "        shutil.copyfile(original_annot_path, new_annot_file_path)"
   ]
  },
  {
   "cell_type": "code",
   "execution_count": null,
   "id": "735de5d2",
   "metadata": {},
   "outputs": [
    {
     "name": "stderr",
     "output_type": "stream",
     "text": [
      "C:\\Users\\user\\AppData\\Local\\Temp\\ipykernel_9588\\3718389932.py:6: DeprecationWarning: `np.float` is a deprecated alias for the builtin `float`. To silence this warning, use `float` by itself. Doing this will not modify any behavior and is safe. If you specifically wanted the numpy scalar type, use `np.float64` here.\n",
      "Deprecated in NumPy 1.20; for more details and guidance: https://numpy.org/devdocs/release/1.20.0-notes.html#deprecations\n",
      "  img_noise = np.zeros((height, width, ch), dtype = np.float)\n"
     ]
    }
   ],
   "source": [
    "for idx in range(len(d_set)):\n",
    "    for n in range(len(d_set[idx][0])):\n",
    "        random_num = random.randrange(1, 3)\n",
    "        data_augmentation(random_num, d_set[idx][0][n], d_set[idx][1][n], n)"
   ]
  },
  {
   "cell_type": "code",
   "execution_count": null,
   "id": "6e31c39f",
   "metadata": {},
   "outputs": [],
   "source": []
  }
 ],
 "metadata": {
  "kernelspec": {
   "display_name": "Python 3 (ipykernel)",
   "language": "python",
   "name": "python3"
  },
  "language_info": {
   "codemirror_mode": {
    "name": "ipython",
    "version": 3
   },
   "file_extension": ".py",
   "mimetype": "text/x-python",
   "name": "python",
   "nbconvert_exporter": "python",
   "pygments_lexer": "ipython3",
   "version": "3.9.13"
  }
 },
 "nbformat": 4,
 "nbformat_minor": 5
}
