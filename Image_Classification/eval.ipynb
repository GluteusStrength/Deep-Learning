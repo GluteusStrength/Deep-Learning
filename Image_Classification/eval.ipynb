{
 "cells": [
  {
   "cell_type": "code",
   "execution_count": null,
   "id": "1d605e4e-4fb9-4ddb-bfa0-b8387f2282e6",
   "metadata": {
    "tags": []
   },
   "outputs": [],
   "source": [
    "import random\n",
    "import pandas as pd\n",
    "import numpy as np\n",
    "import cv2\n",
    "import os\n",
    "import matplotlib.pyplot as plt\n",
    "from tqdm import tqdm\n",
    "from sklearn.model_selection import train_test_split\n",
    "from sklearn.metrics import f1_score\n",
    "import torch\n",
    "import torch.nn as nn\n",
    "import torch.nn.functional as F\n",
    "import torch.optim as optim\n",
    "from torch.utils.data import Dataset, DataLoader\n",
    "import torchvision\n",
    "import torchvision.transforms as transforms\n",
    "import torchvision.models as models\n",
    "import timm\n",
    "\n",
    "def seed_everything(seed: int = 42):\n",
    "    random.seed(seed)\n",
    "    np.random.seed(seed)\n",
    "    os.environ[\"PYTHONHASHSEED\"] = str(seed)\n",
    "    torch.manual_seed(seed)\n",
    "    torch.cuda.manual_seed(seed)\n",
    "    torch.backends.cudnn.deterministic = True\n",
    "    torch.backends.cudnn.benchmark = True\n",
    "\n",
    "class ConvNext(nn.Module):\n",
    "    def __init__(self, extraction, head):\n",
    "        super(ConvNext, self).__init__()\n",
    "        self.extraction = extraction\n",
    "        self.head = head\n",
    "    def forward(self, x):\n",
    "        x1 = self.extraction(x)\n",
    "        x2 = self.head(x1)\n",
    "        return x1, x2\n",
    "\n",
    "    \n",
    "seed_everything()\n",
    "model = torch.load(\"xlarge_distill_best_v2.pt\", map_location = \"cpu\")\n",
    "device = torch.device(\"cuda:0\" if torch.cuda.is_available() else \"cpu\")"
   ]
  },
  {
   "cell_type": "code",
   "execution_count": null,
   "id": "a02b9954-a918-495b-afb1-80d163cc0d79",
   "metadata": {
    "tags": []
   },
   "outputs": [],
   "source": [
    "class TestSet(Dataset):\n",
    "    def __init__(self, img, transform = None):\n",
    "        self.img = img\n",
    "        self.transform = transform\n",
    "        \n",
    "    def __len__(self):\n",
    "        return len(self.img)\n",
    "    \n",
    "    def __getitem__(self, idx):\n",
    "        image = self.img[idx]\n",
    "        image = cv2.imread(image)\n",
    "        image = cv2.cvtColor(image, cv2.COLOR_BGR2RGB)\n",
    "        if self.transform:\n",
    "            image = self.transform(image)\n",
    "        return image\n",
    "\n",
    "class ImageSet(Dataset):\n",
    "    def __init__(self, img, transform = None, class_name = None, label = None):\n",
    "        self.img = img\n",
    "        self.label = label\n",
    "        self.transform = transform\n",
    "        self.class_name = class_name\n",
    "        \n",
    "    def __len__(self):\n",
    "        return len(self.label)\n",
    "    \n",
    "    def __getitem__(self, idx):\n",
    "        images = self.img[idx]\n",
    "        label = self.label[idx]\n",
    "        img = cv2.imread(images)\n",
    "        img = cv2.cvtColor(img, cv2.COLOR_BGR2RGB)\n",
    "        if self.transform:\n",
    "            image = self.transform(img)\n",
    "        label = class_name[label]\n",
    "        return image, label\n",
    "    \n",
    "\n",
    "transform_ = transforms.Compose([\n",
    "    transforms.ToTensor(),\n",
    "    transforms.Normalize([0.485, 0.456, 0.406], [0.229, 0.224, 0.225]),\n",
    "    transforms.Resize([224, 224])                    \n",
    "])\n",
    "\n",
    "data = pd.read_csv(\"train.csv\")\n",
    "trainset, valset, _, _ = train_test_split(data, data[\"label\"], test_size = 0.2, stratify = data[\"label\"], random_state = 0)\n",
    "valset = valset.reset_index()\n",
    "valset.drop([\"index\"], axis = 1, inplace = True)\n",
    "classes = np.unique(data[\"label\"])\n",
    "class_name = {name: i for i, name in enumerate(classes)}\n",
    "validset = ImageSet(img = valset[\"img_path\"], transform = transform_, class_name = class_name, label = valset[\"label\"])\n",
    "valloader = DataLoader(validset, batch_size = 1, shuffle = False)\n",
    "test = pd.read_csv(\"test_.csv\")\n",
    "label = data[\"label\"]\n",
    "test_set = TestSet(img = test[\"img_path\"], transform = transform_)\n",
    "test_loader = DataLoader(test_set, batch_size = 1, shuffle = False)"
   ]
  },
  {
   "cell_type": "code",
   "execution_count": null,
   "id": "c79a5349-3476-49d2-a40f-c4b0a8544961",
   "metadata": {
    "tags": []
   },
   "outputs": [],
   "source": [
    "def inference(model, test_loader, device):\n",
    "    model.to(device)\n",
    "    model.eval()\n",
    "    preds = []\n",
    "    with torch.no_grad():\n",
    "        for imgs in tqdm(iter(test_loader)):\n",
    "            imgs = imgs.float().to(device)\n",
    "            _, pred = model(imgs)\n",
    "            preds += pred.argmax(1).detach().cpu().numpy().tolist()\n",
    "    \n",
    "    return preds"
   ]
  },
  {
   "cell_type": "code",
   "execution_count": null,
   "id": "3f3d3d67-909e-4318-a75a-cb3b18f7b66c",
   "metadata": {
    "tags": []
   },
   "outputs": [],
   "source": [
    "classes = np.unique(label)\n",
    "class_name = {name: i for i, name in enumerate(classes)}\n",
    "preds = inference(model, test_loader, device = device)\n",
    "classes = list(class_name.keys())\n",
    "final = []\n",
    "for pred in preds:\n",
    "    final.append(classes[pred])\n",
    "submit = pd.read_csv(\"./sample_submission.csv\")\n",
    "submit[\"label\"] = final\n",
    "submit.to_csv(\"./distill_best.csv\", index = False)"
   ]
  },
  {
   "cell_type": "code",
   "execution_count": null,
   "id": "2f67df84-c469-43c7-a019-9e35799c06fc",
   "metadata": {},
   "outputs": [],
   "source": [
    "# wrong_list = []\n",
    "# for i, name in enumerate(final):\n",
    "#     if valset[\"label\"][i] != final[i]:\n",
    "#         wrong_list.append([valset[\"img_path\"][i], valset[\"label\"][i]])\n",
    "# wrong = pd.DataFrame(wrong_list)\n",
    "# wrong.columns = [\"img_path\", \"label\"]\n",
    "# wrong.to_csv(\"wrong.csv\")"
   ]
  },
  {
   "cell_type": "code",
   "execution_count": null,
   "id": "6e3653a7-5cbc-4b7f-84b5-033f5c5c55bf",
   "metadata": {
    "tags": []
   },
   "outputs": [],
   "source": [
    "# wrong"
   ]
  },
  {
   "cell_type": "code",
   "execution_count": null,
   "id": "403360c1-8e57-43ad-b254-bc381e412fbf",
   "metadata": {},
   "outputs": [],
   "source": []
  }
 ],
 "metadata": {
  "kernelspec": {
   "display_name": "Python 3 (ipykernel)",
   "language": "python",
   "name": "python3"
  },
  "language_info": {
   "codemirror_mode": {
    "name": "ipython",
    "version": 3
   },
   "file_extension": ".py",
   "mimetype": "text/x-python",
   "name": "python",
   "nbconvert_exporter": "python",
   "pygments_lexer": "ipython3",
   "version": "3.7.7"
  }
 },
 "nbformat": 4,
 "nbformat_minor": 5
}
