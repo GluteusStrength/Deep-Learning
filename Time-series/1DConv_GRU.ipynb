{
 "cells": [
  {
   "cell_type": "code",
   "execution_count": null,
   "id": "ca37b6d0",
   "metadata": {},
   "outputs": [],
   "source": [
    "import random\n",
    "import os\n",
    "import pandas as pd\n",
    "import numpy as np\n",
    "import matplotlib.pyplot as plt\n",
    "from tqdm.auto import tqdm\n",
    "from sklearn.preprocessing import LabelEncoder\n",
    "from statsmodels.tsa.arima.model import ARIMA\n",
    "\n",
    "import torch\n",
    "import torch.nn as nn\n",
    "import torch.optim as optim\n",
    "import torch.nn.functional as F\n",
    "from torch.utils.data import Dataset, DataLoader"
   ]
  },
  {
   "cell_type": "code",
   "execution_count": null,
   "id": "29086f84",
   "metadata": {},
   "outputs": [],
   "source": [
    "CFG = {\n",
    "    # 오버피팅 나지 않는 선에서 TRAIN_WINDOW_SIZE를 조정한다.\n",
    "    'TRAIN_WINDOW_SIZE':120, # 100일치로 학습\n",
    "    'PREDICT_SIZE':21, # 21일치 예측\n",
    "    'EPOCHS':10,\n",
    "    'LEARNING_RATE':1e-4,\n",
    "    'BATCH_SIZE':512,\n",
    "    'SEED':42\n",
    "}"
   ]
  },
  {
   "cell_type": "code",
   "execution_count": null,
   "id": "ee2c1559",
   "metadata": {},
   "outputs": [],
   "source": [
    "def seed_everything(seed):\n",
    "    random.seed(seed)\n",
    "    os.environ['PYTHONHASHSEED'] = str(seed)\n",
    "    np.random.seed(seed)\n",
    "    torch.manual_seed(seed)\n",
    "    torch.cuda.manual_seed(seed)\n",
    "    torch.backends.cudnn.deterministic = True\n",
    "    torch.backends.cudnn.benchmark = True\n",
    "\n",
    "seed_everything(CFG['SEED']) # Seed 고정"
   ]
  },
  {
   "cell_type": "code",
   "execution_count": null,
   "id": "e3e77873",
   "metadata": {},
   "outputs": [],
   "source": [
    "train_data = pd.read_csv('./train.csv').drop(columns=['ID', '제품'])\n",
    "# train_data = pd.read_csv(\"./meta.csv\")\n",
    "# train_data.drop(\"Unnamed: 0\", axis = 1, inplace = True)\n",
    "# train_data"
   ]
  },
  {
   "cell_type": "code",
   "execution_count": null,
   "id": "25388148",
   "metadata": {},
   "outputs": [],
   "source": [
    "meta_data = pd.read_csv(\"./brand_keyword_cnt.csv\")"
   ]
  },
  {
   "cell_type": "code",
   "execution_count": null,
   "id": "b4b044d6",
   "metadata": {},
   "outputs": [],
   "source": [
    "import matplotlib.pyplot as plt\n",
    "x = train_data.iloc[2, 4:]\n",
    "y = meta_data.iloc[2, 1:]\n",
    "plt.plot(x)\n",
    "plt.plot(y)\n",
    "plt.show()"
   ]
  },
  {
   "cell_type": "code",
   "execution_count": null,
   "id": "14634d76",
   "metadata": {},
   "outputs": [],
   "source": [
    "nan_row = np.array(meta_data.isna().any(axis = 1))\n",
    "index_nan = []\n",
    "for idx in range(len(nan_row)):\n",
    "    if nan_row[idx] == True:\n",
    "        index_nan.append(meta_data.iloc[idx, 0])\n",
    "index_nan"
   ]
  },
  {
   "cell_type": "code",
   "execution_count": null,
   "id": "696e3d76",
   "metadata": {},
   "outputs": [],
   "source": [
    "\n",
    "for idx in tqdm(range(len(meta_data))):\n",
    "    maxi = np.max(meta_data.iloc[idx,1:])\n",
    "    mini = np.min(meta_data.iloc[idx,1:])\n",
    "    \n",
    "    if maxi == mini :\n",
    "        meta_data.iloc[idx,1:] = 0\n",
    "    else:\n",
    "        meta_data.iloc[idx,1:] = (meta_data.iloc[idx,1:] - mini) / (maxi - mini)\n",
    "    \n",
    "#     scale_max_dict[idx] = maxi\n",
    "#     scale_min_dict[idx] = mini"
   ]
  },
  {
   "cell_type": "code",
   "execution_count": null,
   "id": "60f50841",
   "metadata": {},
   "outputs": [],
   "source": [
    "# # Data Scaling\n",
    "# 우선 scaling을 진행한다.\n",
    "# 순서: scaling 작업 -> 여기에 가중 평균을 접목 시킨다\n",
    "scale_max_dict = {}\n",
    "scale_min_dict = {}\n",
    "\n",
    "for idx in tqdm(range(len(train_data))):\n",
    "    maxi = np.max(train_data.iloc[idx,4:])\n",
    "    mini = np.min(train_data.iloc[idx,4:])\n",
    "    \n",
    "    if maxi == mini :\n",
    "        train_data.iloc[idx,4:] = 0\n",
    "    else:\n",
    "        train_data.iloc[idx,4:] = (train_data.iloc[idx,4:] - mini) / (maxi - mini)\n",
    "    \n",
    "    scale_max_dict[idx] = maxi\n",
    "    scale_min_dict[idx] = mini"
   ]
  },
  {
   "cell_type": "code",
   "execution_count": null,
   "id": "687f0399",
   "metadata": {},
   "outputs": [],
   "source": [
    "train_data"
   ]
  },
  {
   "cell_type": "code",
   "execution_count": null,
   "id": "ce2b6705",
   "metadata": {},
   "outputs": [],
   "source": [
    "ind = meta_data.iloc[:, 0]\n",
    "meta_data.set_index(ind, inplace = True)\n",
    "meta_data.drop([\"브랜드\"], axis = 1, inplace = True)\n",
    "meta_data"
   ]
  },
  {
   "cell_type": "code",
   "execution_count": null,
   "id": "a97c7fa1",
   "metadata": {},
   "outputs": [],
   "source": [
    "for idx in range(len(train_data)):\n",
    "    brand = train_data.iloc[idx, 3]\n",
    "    if brand in index_nan:\n",
    "        print(\"brand {} doesn't apply meta data\".format(brand))\n",
    "        continue\n",
    "    else:\n",
    "        print(\"meta data apply on {}th row\".format(idx))\n",
    "        c = meta_data.loc[brand, :]\n",
    "        data = train_data.iloc[idx, 4:]\n",
    "        for n in range(len(c)):\n",
    "            data[n] = int(data[n]+c[n])\n",
    "        train_data.iloc[idx, 4:] = data\n",
    "train_data"
   ]
  },
  {
   "cell_type": "code",
   "execution_count": null,
   "id": "4529cce0",
   "metadata": {},
   "outputs": [],
   "source": [
    "train_data.sum()"
   ]
  },
  {
   "cell_type": "code",
   "execution_count": null,
   "id": "0251726b",
   "metadata": {},
   "outputs": [],
   "source": [
    "# 만약 성능이 따로 좋게 나오지 않는다면? 한 행이 전부 0인지 체크\n",
    "# 만약 한 행이 전부 0이면 그 때는 해당 행 제외하고만 곱해서 진행"
   ]
  },
  {
   "cell_type": "code",
   "execution_count": null,
   "id": "bd0af812",
   "metadata": {},
   "outputs": [],
   "source": [
    "train_data.iloc[1, 4:]"
   ]
  },
  {
   "cell_type": "markdown",
   "id": "6cda3630",
   "metadata": {},
   "source": [
    "### IQR을 이용하여 가볍게 이상치 처리\n",
    "- 우선 1차적인 이상 탐지는 가볍게 IQR을 이용해서 도출해본다.\n",
    "- 행 별로 이상 탐지를 진행한다\n",
    "- 상한 보다 큰 경우는 상한 값으로 대체한다."
   ]
  },
  {
   "cell_type": "code",
   "execution_count": null,
   "id": "137d0f97",
   "metadata": {},
   "outputs": [],
   "source": [
    "# # 우선 1차적인 이상 탐지는 가볍게 IQR을 이용해서 도출해본다.\n",
    "# # 행 별로 이상 탐지를 진행한다\n",
    "# # 상한 보다 큰 경우는 상한 값으로 대체한다.\n",
    "# def IQR_processing(df):\n",
    "#     for idx in range(len(df)):\n",
    "#         data = df.iloc[idx, 4:]\n",
    "#         Q1 = np.percentile(data, 25)\n",
    "#         Q3 = np.percentile(data, 75)\n",
    "#         IQR = Q3 - Q1\n",
    "#         # 3-sigma\n",
    "#         outlier = 3*IQR\n",
    "#         print(\"{}번째의 Outlier의 기준은 {}이다\".format(idx, outlier))\n",
    "#         if outlier == 0:\n",
    "#             print(\"{}번째 step은 건너뛴다\".format(idx))\n",
    "#             continue\n",
    "#         for i in range(len(data)):\n",
    "#             if data[i] > Q3 + outlier:\n",
    "#                 data[i] = np.NaN\n",
    "#         MAX = np.max(data)\n",
    "#         print(\"Outlier외의 최댓값은 {}이다\".format(MAX))\n",
    "#         data.fillna(MAX, inplace = True)\n",
    "#         df.iloc[idx, 4:] = data\n",
    "#     return df\n",
    "\n",
    "# train_data = IQR_processing(train)\n",
    "# train_data"
   ]
  },
  {
   "cell_type": "markdown",
   "id": "67ad93b6",
   "metadata": {},
   "source": [
    "### train_data 분석\n",
    "1. 우선 해당 데이터셋은 브랜드별 - 대분류, 중분류, 소분류로 이뤄져 있다.\n",
    "2. column은 5번째 이후로는 일자별로 브랜드별로 팔리는 정도를 나타낸다.\n",
    "3. 시계열 데이터의 정상성 check, anomaly detection 진행."
   ]
  },
  {
   "cell_type": "code",
   "execution_count": null,
   "id": "0560c649",
   "metadata": {},
   "outputs": [],
   "source": [
    "# # # ADF test\n",
    "# # # 제품 별 ADF 테스트 진행\n",
    "# # # 귀무가설: 시계열은 정상성이 아니다. 대립가설: 시계열은 정상성이다.\n",
    "# from statsmodels.tsa.stattools import adfuller\n",
    "# check_diff = []\n",
    "# def ADF(v, idx):\n",
    "#     result = adfuller(v) \n",
    "#     print(\"{}th p-value: {}\".format(idx, result[1]))\n",
    "#     if result[1] > 0.05:\n",
    "#         check_diff.append(idx)\n",
    "#         print(\"{}th index should be manipulated since p-value is {}\".format(idx, result[1]))\n",
    "#     return check_diff"
   ]
  },
  {
   "cell_type": "code",
   "execution_count": null,
   "id": "3ffd7449",
   "metadata": {},
   "outputs": [],
   "source": [
    "# # KPSS 테스트\n",
    "# # KPSS 테스트는 ADF 테스트와 귀무가설과 대립가설이 정반대이다.\n",
    "# # p-value가 0.05 이상이면 귀무가설 채택\n",
    "# # 귀무가설: 정상 시계열이다, 대립가설: 정상 시계열이 아니다.\n",
    "# from statsmodels.tsa.stattools import kpss\n",
    "# check_kpss = []\n",
    "# nan_idx = []\n",
    "# def KPSS(v, idx):\n",
    "#     result = kpss(v)\n",
    "#     print(\"{}th p-value: {}\".format(idx, result[1]))\n",
    "#     if result[1] < 0.05:\n",
    "#         print(\"{}th index should be manipulated since p-value is {}\".format(idx, result[1]))\n",
    "#         check_kpss.append(idx)\n",
    "#     return check_kpss"
   ]
  },
  {
   "cell_type": "code",
   "execution_count": null,
   "id": "27d0eb11",
   "metadata": {},
   "outputs": [],
   "source": [
    "# ## log scale\n",
    "# check_train = train_data.iloc[:, 4:]\n",
    "# for i in range(len(check_train)):\n",
    "#     vec = check_train.iloc[i, :]\n",
    "#     vec = np.array(vec)\n",
    "#     for n in range(len(vec)):\n",
    "#         if vec[n] == 0:\n",
    "#             vec[n] += 1\n",
    "#     check_train.iloc[i, :] = np.log(vec)\n",
    "# train_data = pd.concat([train_data.iloc[:, :4], check_train], axis = 1)\n",
    "# train_data"
   ]
  },
  {
   "cell_type": "code",
   "execution_count": null,
   "id": "9094eb87",
   "metadata": {
    "scrolled": true
   },
   "outputs": [],
   "source": [
    "# # 1차적으로 raw data에 대하여 ADF 정상성 체크\n",
    "# check_train = train_data.iloc[:, 4:]\n",
    "# for idx in range(len(check_train)):\n",
    "#     vec = check_train.iloc[idx, :]\n",
    "#     res_ADF = ADF(vec, idx)"
   ]
  },
  {
   "cell_type": "code",
   "execution_count": null,
   "id": "8311584d",
   "metadata": {},
   "outputs": [],
   "source": [
    "# # 1차적으로 raw data에 대하여 ADF 정상성 체크\n",
    "# check_train = train_data.iloc[:, 4:]\n",
    "# for idx in range(len(check_train)):\n",
    "#     vec = check_train.iloc[idx, :]\n",
    "#     res_KPSS = KPSS(vec, idx)"
   ]
  },
  {
   "cell_type": "code",
   "execution_count": null,
   "id": "f737688f",
   "metadata": {},
   "outputs": [],
   "source": [
    "# # 각 제품군 중 정상성을 만족하지 않는 경우 \n",
    "# # 차분을 통해서 우선 해결해본다.\n",
    "# # 다음은 시각화 코드이다.\n",
    "# ex = train_data.iloc[0, :]\n",
    "# data_diff = ex.diff(periods = 1).dropna()\n",
    "# plt.figure(figsize=(12, 6))\n",
    "# plt.subplot(2, 1, 1)\n",
    "# plt.plot(ex)\n",
    "# plt.title('Original Time Series Data')\n",
    "\n",
    "# plt.subplot(2, 1, 2)\n",
    "# plt.plot(data_diff)\n",
    "# plt.title('1st Order Differenced Data')\n",
    "# plt.tight_layout()\n",
    "# plt.show()"
   ]
  },
  {
   "cell_type": "code",
   "execution_count": null,
   "id": "e091af5c",
   "metadata": {},
   "outputs": [],
   "source": [
    "# def difference(df, res):\n",
    "#     for i in res:\n",
    "#         df.iloc[i, :] = df.iloc[i, :].diff(periods = 1)\n",
    "#     return df\n",
    "# first_diff_train = difference(check_train, res_ADF)\n",
    "# first_diff_train.fillna(0, inplace = True)"
   ]
  },
  {
   "cell_type": "code",
   "execution_count": null,
   "id": "43556334",
   "metadata": {},
   "outputs": [],
   "source": [
    "# cate_data = train_data.iloc[:, 0:4]\n",
    "# train_data = pd.concat([cate_data, first_diff_train], axis = 1)"
   ]
  },
  {
   "cell_type": "code",
   "execution_count": null,
   "id": "9155f549",
   "metadata": {},
   "outputs": [],
   "source": [
    "# check_kpss_train = train_data.iloc[:, 4:]\n",
    "# cols = np.array(check_kpss_train.columns)\n",
    "# for idx in range(len(cols)):\n",
    "#     vec = first_diff_train.iloc[:, idx]\n",
    "#     res_KPSS = KPSS(vec, idx)"
   ]
  },
  {
   "cell_type": "code",
   "execution_count": null,
   "id": "86b001d0",
   "metadata": {},
   "outputs": [],
   "source": [
    "# # Data Scaling\n",
    "# 우선 scaling을 진행한다.\n",
    "scale_max_dict = {}\n",
    "scale_min_dict = {}\n",
    "\n",
    "for idx in tqdm(range(len(train_data))):\n",
    "    maxi = np.max(train_data.iloc[idx,4:])\n",
    "    mini = np.min(train_data.iloc[idx,4:])\n",
    "    \n",
    "    if maxi == mini :\n",
    "        train_data.iloc[idx,4:] = 0\n",
    "    else:\n",
    "        train_data.iloc[idx,4:] = (train_data.iloc[idx,4:] - mini) / (maxi - mini)\n",
    "    \n",
    "    scale_max_dict[idx] = maxi\n",
    "    scale_min_dict[idx] = mini"
   ]
  },
  {
   "cell_type": "code",
   "execution_count": null,
   "id": "eb6b2fd5",
   "metadata": {},
   "outputs": [],
   "source": [
    "train_data"
   ]
  },
  {
   "cell_type": "code",
   "execution_count": null,
   "id": "467717ab",
   "metadata": {},
   "outputs": [],
   "source": [
    "# Label Encoding\n",
    "label_encoder = LabelEncoder()\n",
    "categorical_columns = ['대분류', '중분류', '소분류', '브랜드']\n",
    "\n",
    "for col in categorical_columns:\n",
    "    label_encoder.fit(train_data[col])\n",
    "    train_data[col] = label_encoder.transform(train_data[col])"
   ]
  },
  {
   "cell_type": "code",
   "execution_count": null,
   "id": "699ffc2a",
   "metadata": {},
   "outputs": [],
   "source": [
    "def make_train_data(data, train_size=CFG['TRAIN_WINDOW_SIZE'], predict_size=CFG['PREDICT_SIZE']):\n",
    "    '''\n",
    "    학습 기간 블럭, 예측 기간 블럭의 세트로 데이터를 생성\n",
    "    data : 일별 판매량\n",
    "    train_size : 학습에 활용할 기간\n",
    "    predict_size : 추론할 기간\n",
    "    '''\n",
    "    num_rows = len(data)\n",
    "    window_size = train_size + predict_size\n",
    "    \n",
    "    input_data = np.empty((num_rows * (len(data.columns) - window_size + 1), train_size, len(data.iloc[0, :4]) + 1))\n",
    "    target_data = np.empty((num_rows * (len(data.columns) - window_size + 1), predict_size))\n",
    "    \n",
    "    for i in tqdm(range(num_rows)):\n",
    "        encode_info = np.array(data.iloc[i, :4])\n",
    "        sales_data = np.array(data.iloc[i, 4:])\n",
    "        \n",
    "        for j in range(len(sales_data) - window_size + 1):\n",
    "            window = sales_data[j : j + window_size]\n",
    "            temp_data = np.column_stack((np.tile(encode_info, (train_size, 1)), window[:train_size]))\n",
    "            input_data[i * (len(data.columns) - window_size + 1) + j] = temp_data\n",
    "            target_data[i * (len(data.columns) - window_size + 1) + j] = window[train_size:]\n",
    "    \n",
    "    return input_data, target_data"
   ]
  },
  {
   "cell_type": "code",
   "execution_count": null,
   "id": "6e483059",
   "metadata": {},
   "outputs": [],
   "source": [
    "def make_predict_data(data, train_size=CFG['TRAIN_WINDOW_SIZE']):\n",
    "    '''\n",
    "    평가 데이터(Test Dataset)를 추론하기 위한 Input 데이터를 생성\n",
    "    data : 일별 판매량\n",
    "    train_size : 추론을 위해 필요한 일별 판매량 기간 (= 학습에 활용할 기간)\n",
    "    '''\n",
    "    num_rows = len(data)\n",
    "    \n",
    "    input_data = np.empty((num_rows, train_size, len(data.iloc[0, :4]) + 1))\n",
    "    \n",
    "    for i in tqdm(range(num_rows)):\n",
    "        encode_info = np.array(data.iloc[i, :4])\n",
    "        sales_data = np.array(data.iloc[i, -train_size:])\n",
    "        \n",
    "        window = sales_data[-train_size : ]\n",
    "        temp_data = np.column_stack((np.tile(encode_info, (train_size, 1)), window[:train_size]))\n",
    "        input_data[i] = temp_data\n",
    "    \n",
    "    return input_data"
   ]
  },
  {
   "cell_type": "code",
   "execution_count": null,
   "id": "1bcc1299",
   "metadata": {},
   "outputs": [],
   "source": [
    "train_input, train_target = make_train_data(train_data)\n",
    "test_input = make_predict_data(train_data)"
   ]
  },
  {
   "cell_type": "code",
   "execution_count": null,
   "id": "8850cd4e",
   "metadata": {},
   "outputs": [],
   "source": [
    "# Train / Validation Split\n",
    "data_len = len(train_input)\n",
    "val_input = train_input[-int(data_len*0.2):]\n",
    "val_target = train_target[-int(data_len*0.2):]\n",
    "train_input = train_input[:-int(data_len*0.2)]\n",
    "train_target = train_target[:-int(data_len*0.2)]"
   ]
  },
  {
   "cell_type": "code",
   "execution_count": null,
   "id": "5094375a",
   "metadata": {},
   "outputs": [],
   "source": [
    "train_input.shape, train_target.shape, val_input.shape, val_target.shape, test_input.shape"
   ]
  },
  {
   "cell_type": "code",
   "execution_count": null,
   "id": "c2632d10",
   "metadata": {},
   "outputs": [],
   "source": [
    "class CustomDataset(Dataset):\n",
    "    def __init__(self, X, Y):\n",
    "        self.X = X\n",
    "        self.Y = Y\n",
    "        \n",
    "    def __getitem__(self, index):\n",
    "        if self.Y is not None:\n",
    "            return torch.Tensor(self.X[index]), torch.Tensor(self.Y[index])\n",
    "        return torch.Tensor(self.X[index])\n",
    "    \n",
    "    def __len__(self):\n",
    "        return len(self.X)"
   ]
  },
  {
   "cell_type": "code",
   "execution_count": null,
   "id": "bf6f4d0e",
   "metadata": {},
   "outputs": [],
   "source": [
    "train_dataset = CustomDataset(train_input, train_target)\n",
    "train_loader = DataLoader(train_dataset, batch_size = CFG['BATCH_SIZE'], shuffle=True, num_workers=0)\n",
    "\n",
    "val_dataset = CustomDataset(val_input, val_target)\n",
    "val_loader = DataLoader(val_dataset, batch_size = CFG['BATCH_SIZE'], shuffle=False, num_workers=0)"
   ]
  },
  {
   "cell_type": "markdown",
   "id": "6701d9e5",
   "metadata": {},
   "source": [
    "모델은 Bi-Directional GRU를 이용"
   ]
  },
  {
   "cell_type": "code",
   "execution_count": null,
   "id": "bde68acd",
   "metadata": {},
   "outputs": [],
   "source": [
    "import torch\n",
    "import torch.nn as nn\n",
    "\n",
    "class Conv1dGRU(nn.Module):\n",
    "    def __init__(self, input_size=5, hidden_size=512, output_size=CFG['PREDICT_SIZE']):\n",
    "        super(Conv1dGRU, self).__init__()\n",
    "        self.hidden_size = hidden_size\n",
    "        self.conv1d = nn.Sequential(\n",
    "            nn.Conv1d(in_channels=CFG[\"TRAIN_WINDOW_SIZE\"], out_channels=64, kernel_size=1),\n",
    "            nn.ReLU()\n",
    "        )\n",
    "#         self.conv2d = nn.Sequential(\n",
    "#             nn.Conv1d(in_channels=128, out_channels=CFG[\"TRAIN_WINDOW_SIZE\"], kernel_size=1),\n",
    "#             nn.ReLU()\n",
    "#         )\n",
    "        self.gru = nn.GRU(input_size, hidden_size, batch_first=True, bidirectional=True)\n",
    "        self.fc = nn.Sequential(\n",
    "            nn.Linear(hidden_size * 2, hidden_size),\n",
    "            nn.ReLU(),\n",
    "            nn.Dropout(),\n",
    "            nn.Linear(hidden_size, output_size)\n",
    "        )\n",
    "        self.actv = nn.ReLU()\n",
    "        torch.nn.init.kaiming_normal_(self.fc[0].weight)\n",
    "        torch.nn.init.kaiming_normal_(self.fc[3].weight)\n",
    "    \n",
    "    def forward(self, x):\n",
    "        # x shape: (B, TRAIN_WINDOW_SIZE, 5)\n",
    "        batch_size = x.size(0)\n",
    "        x = self.conv1d(x)\n",
    "#         x = self.conv2d(x)\n",
    "        # GRU layer\n",
    "        gru_out, _ = self.gru(x)\n",
    "        \n",
    "        # Only use the last output sequence\n",
    "        last_output = gru_out[:, -1, :]\n",
    "        \n",
    "        # Fully connected layer\n",
    "        output = self.actv(self.fc(last_output))\n",
    "        \n",
    "        return output.squeeze(1)\n"
   ]
  },
  {
   "cell_type": "code",
   "execution_count": null,
   "id": "9bf0dca5",
   "metadata": {},
   "outputs": [],
   "source": [
    "def train(model, optimizer, train_loader, val_loader, device, scheduler):\n",
    "    model.to(device)\n",
    "    criterion = nn.MSELoss().to(device)\n",
    "    best_loss = 9999999\n",
    "    best_model = None\n",
    "    cnt = 0\n",
    "    PATIENCE = 10\n",
    "    for epoch in range(1, CFG[\"EPOCHS\"]+1):\n",
    "        model.train()\n",
    "        train_loss = []\n",
    "        train_mae = []\n",
    "        for X, Y in tqdm(iter(train_loader)):\n",
    "            X = X.to(device)\n",
    "            Y = Y.to(device)\n",
    "            \n",
    "            optimizer.zero_grad()\n",
    "            \n",
    "            output = model(X)\n",
    "            loss = criterion(output, Y)\n",
    "            \n",
    "            loss.backward()\n",
    "            optimizer.step()\n",
    "            \n",
    "            train_loss.append(loss.item())\n",
    "        \n",
    "        val_loss = validation(model, val_loader, criterion, device)\n",
    "        print(f'Epoch : [{epoch}] Train Loss : [{np.mean(train_loss):.5f}] Val Loss : [{val_loss:.5f}]')\n",
    "        \n",
    "        if scheduler is not None:\n",
    "            scheduler.step(val_loss)\n",
    "        \n",
    "        if best_loss > val_loss:\n",
    "            best_loss = val_loss\n",
    "            best_model = model\n",
    "            cnt = 0\n",
    "            print('Model Saved')\n",
    "        else:\n",
    "            cnt += 1\n",
    "        if cnt >= PATIENCE:\n",
    "            print(\"Early Stopping\")\n",
    "            return best_model\n",
    "    return best_model"
   ]
  },
  {
   "cell_type": "code",
   "execution_count": null,
   "id": "f9316eea",
   "metadata": {},
   "outputs": [],
   "source": [
    "def validation(model, val_loader, criterion, device):\n",
    "    pred = []\n",
    "    target = []\n",
    "    model.eval()\n",
    "    val_loss = []\n",
    "    \n",
    "    with torch.no_grad():\n",
    "        for X, Y in tqdm(iter(val_loader)):\n",
    "            X = X.to(device)\n",
    "            Y = Y.to(device)\n",
    "            target.extend(Y.cpu().numpy())\n",
    "            output = model(X)\n",
    "            pred.extend(output.cpu().numpy())\n",
    "            loss = criterion(output, Y) \n",
    "            val_loss.append(loss.item())    \n",
    "    return np.mean(val_loss)"
   ]
  },
  {
   "cell_type": "code",
   "execution_count": null,
   "id": "784c1526",
   "metadata": {},
   "outputs": [],
   "source": [
    "model = Conv1dGRU()\n",
    "# model = torch.load(\"./lastmodel_0819.pth\")\n",
    "device = torch.device(\"cuda:0\" if torch.cuda.is_available() else \"cpu\")\n",
    "optimizer = torch.optim.AdamW(params = model.parameters(), lr = CFG[\"LEARNING_RATE\"])\n",
    "scheduler = torch.optim.lr_scheduler.ReduceLROnPlateau(optimizer, mode = \"min\", factor = 0.5, patience = 5, min_lr = 1e-6, verbose = True)\n",
    "infer_model = train(model, optimizer, train_loader, val_loader, device, scheduler = scheduler)"
   ]
  },
  {
   "cell_type": "code",
   "execution_count": null,
   "id": "d8c8f486",
   "metadata": {},
   "outputs": [],
   "source": [
    "test_dataset = CustomDataset(test_input, None)\n",
    "test_loader = DataLoader(test_dataset, batch_size = CFG['BATCH_SIZE'], shuffle=False, num_workers=0)"
   ]
  },
  {
   "cell_type": "code",
   "execution_count": null,
   "id": "d9085935",
   "metadata": {},
   "outputs": [],
   "source": [
    "def inference(model, test_loader, device):\n",
    "    predictions = []\n",
    "    \n",
    "    with torch.no_grad():\n",
    "        for X in tqdm(iter(test_loader)):\n",
    "            X = X.to(device)\n",
    "            \n",
    "            output = model(X)\n",
    "            \n",
    "            # 모델 출력인 output을 CPU로 이동하고 numpy 배열로 변환\n",
    "            output = output.cpu().numpy()\n",
    "            \n",
    "            predictions.extend(output)\n",
    "    \n",
    "    return np.array(predictions)"
   ]
  },
  {
   "cell_type": "code",
   "execution_count": null,
   "id": "9bacf66b",
   "metadata": {},
   "outputs": [],
   "source": [
    "pred = inference(model, test_loader, device)"
   ]
  },
  {
   "cell_type": "code",
   "execution_count": null,
   "id": "f791a26c",
   "metadata": {},
   "outputs": [],
   "source": [
    "# 추론 결과를 inverse scaling\n",
    "for idx in range(len(pred)):\n",
    "    pred[idx, :] = pred[idx, :] * (scale_max_dict[idx] - scale_min_dict[idx]) + scale_min_dict[idx]\n",
    "    \n",
    "# 결과 후처리\n",
    "pred = np.round(pred, 0).astype(int)"
   ]
  },
  {
   "cell_type": "code",
   "execution_count": null,
   "id": "0a3e1123",
   "metadata": {},
   "outputs": [],
   "source": [
    "submit = pd.read_csv('./sample_submission.csv')\n",
    "submit.head()"
   ]
  },
  {
   "cell_type": "code",
   "execution_count": null,
   "id": "dcc59f14",
   "metadata": {},
   "outputs": [],
   "source": [
    "submit.to_csv('./baseline_submit_GRU.csv', index=False)"
   ]
  }
 ],
 "metadata": {
  "kernelspec": {
   "display_name": "Python 3 (ipykernel)",
   "language": "python",
   "name": "python3"
  },
  "language_info": {
   "codemirror_mode": {
    "name": "ipython",
    "version": 3
   },
   "file_extension": ".py",
   "mimetype": "text/x-python",
   "name": "python",
   "nbconvert_exporter": "python",
   "pygments_lexer": "ipython3",
   "version": "3.9.13"
  }
 },
 "nbformat": 4,
 "nbformat_minor": 5
}
