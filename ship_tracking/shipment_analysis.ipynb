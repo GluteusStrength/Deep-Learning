{
 "cells": [
  {
   "cell_type": "markdown",
   "id": "c2bb6b9e",
   "metadata": {},
   "source": [
    "공공데이터포털 \n",
    "- 해양수산부_선박운항정보\n",
    "    - xml 파일\n",
    "    - xml 파일의 경우 Tree 형태의 객체이다.\n",
    "    - 해당 경로를 찾아들어가서 원하는 정보를 뽑는다.\n",
    "    - 확인 결과 크게 쓸모 있는 거 같진 않다. 출항 시간, 입항 시간 정보가 들쭉날쭉하게 입력된 것을 봤다."
   ]
  },
  {
   "cell_type": "code",
   "execution_count": 21,
   "id": "09903c88",
   "metadata": {},
   "outputs": [
    {
     "name": "stdout",
     "output_type": "stream",
     "text": [
      "b'<?xml version=\"1.0\" encoding=\"UTF-8\" standalone=\"yes\"?><response><header><resultCode>00</resultCode><resultMsg>NORMAL_SERVICE</resultMsg></header><body><items><item><prtAgCd>020</prtAgCd><prtAgNm>\\xeb\\xb6\\x80\\xec\\x82\\xb0</prtAgNm><etryptYear>2017</etryptYear><etryptCo>030</etryptCo><clsgn>170002</clsgn><vsslNm>\\xec\\x8b\\xa0\\xec\\xa0\\x953\\xed\\x98\\xb8</vsslNm><vsslNltyCd>KR</vsslNltyCd><vsslNltyNm>\\xeb\\x8c\\x80\\xed\\x95\\x9c\\xeb\\xaf\\xbc\\xea\\xb5\\xad</vsslNltyNm><vsslKndNm>\\xec\\x84\\x9d\\xec\\x9c\\xa0\\xec\\xa0\\x9c\\xed\\x92\\x88 \\xec\\x9a\\xb4\\xeb\\xb0\\x98\\xec\\x84\\xa0</vsslKndNm><etryptPurpsCd>99</etryptPurpsCd><etryptPurpsNm>\\xea\\xb8\\xb0\\xed\\x83\\x80</etryptPurpsNm><frstDpmprtNatPrtCd>KRUSN</frstDpmprtNatPrtCd><frstDpmprtPrtNm>\\xec\\x9a\\xb8\\xec\\x82\\xb0</frstDpmprtPrtNm><prvsDpmprtNatPrtCd>KRUSN</prvsDpmprtNatPrtCd><prvsDpmprtPrtNm>\\xec\\x9a\\xb8\\xec\\x82\\xb0</prvsDpmprtPrtNm><nxlnptNatPrtCd>KRSHG</nxlnptNatPrtCd><nxlnptPrtNm>\\xed\\x8f\\xac\\xed\\x95\\xad\\xec\\x8b\\xa0\\xed\\x95\\xad</nxlnptPrtNm><dstnNatPrtCd>KRSHG</dstnNatPrtCd><dstnPrtNm>\\xed\\x8f\\xac\\xed\\x95\\xad\\xec\\x8b\\xa0\\xed\\x95\\xad</dstnPrtNm><details><detail><etryndNm>\\xec\\x9e\\x85\\xed\\x95\\xad</etryndNm><etryptDt>2017-12-27T00:00:00+09:00</etryptDt><ibobprtNm>\\xeb\\x82\\xb4\\xed\\x95\\xad</ibobprtNm><laidupFcltyCd>MW5</laidupFcltyCd><laidupFcltySubCd>01</laidupFcltySubCd><laidupFcltyNm>5\\xeb\\xac\\xbc\\xeb\\x9f\\x89\\xec\\x9e\\xa5 1\\xec\\x84\\xa0\\xec\\x84\\x9d</laidupFcltyNm><piltgYn>N</piltgYn><ldadngFrghtClCd>-</ldadngFrghtClCd><ldadngTon>0</ldadngTon><trnpdtTon>0</trnpdtTon><landngFrghtTon>0</landngFrghtTon><grtg>237</grtg><intrlGrtg>237</intrlGrtg><satmntEntrpsNm>\\xeb\\x8b\\xb9\\xea\\xb5\\xb0\\xed\\x95\\xb4\\xec\\x9a\\xb4</satmntEntrpsNm><crewCo>5</crewCo><koranCrewCo>4</koranCrewCo><frgnrCrewCo>1</frgnrCrewCo></detail><detail><etryndNm>\\xec\\xb6\\x9c\\xed\\x95\\xad</etryndNm><tkoffDt>2017-12-28T22:35:00+09:00</tkoffDt><ibobprtNm>\\xeb\\x82\\xb4\\xed\\x95\\xad</ibobprtNm><laidupFcltyCd>MW5</laidupFcltyCd><laidupFcltySubCd>01</laidupFcltySubCd><laidupFcltyNm>5\\xeb\\xac\\xbc\\xeb\\x9f\\x89\\xec\\x9e\\xa5 1\\xec\\x84\\xa0\\xec\\x84\\x9d</laidupFcltyNm><piltgYn>N</piltgYn><ldadngFrghtClCd>27</ldadngFrghtClCd><ldadngTon>50</ldadngTon><trnpdtTon>0</trnpdtTon><ldFrghtTon>50</ldFrghtTon><grtg>237</grtg><intrlGrtg>237</intrlGrtg><satmntEntrpsNm>\\xeb\\x8b\\xb9\\xea\\xb5\\xb0\\xed\\x95\\xb4\\xec\\x9a\\xb4</satmntEntrpsNm><crewCo>5</crewCo><koranCrewCo>4</koranCrewCo><frgnrCrewCo>1</frgnrCrewCo></detail></details></item></items><numOfRows>1</numOfRows><pageNo>1</pageNo><totalCount>155</totalCount></body></response>'\n"
     ]
    }
   ],
   "source": [
    "import requests\n",
    "\n",
    "encoding = \"fQmSb5YeXYPiNKALK04XK5eJcw8J2Dqms4SapBCTLJlxwEqcT2Z4fC1Bquod%2BxXjlDKrFT%2Bvu3qsLzFt00GoBQ%3D%3D\"\n",
    "decoding = \"fQmSb5YeXYPiNKALK04XK5eJcw8J2Dqms4SapBCTLJlxwEqcT2Z4fC1Bquod+xXjlDKrFT+vu3qsLzFt00GoBQ==\"\n",
    "\n",
    "# decoding key가 먹힌다.\n",
    "url = 'http://apis.data.go.kr/1192000/VsslEtrynd2/Info'\n",
    "params ={'serviceKey' : decoding, 'pageNo' : '1', 'numOfRows' : '1', 'prtAgCd' : '020', 'sde' : '20171227', 'ede' : '20171227' }\n",
    "\n",
    "response = requests.get(url, params=params)\n",
    "print(response.content)"
   ]
  },
  {
   "cell_type": "code",
   "execution_count": 23,
   "id": "89992984",
   "metadata": {},
   "outputs": [
    {
     "name": "stdout",
     "output_type": "stream",
     "text": [
      "부산, 대한민국, 2017, 울산, 울산, 포항신항, 포항신항, None\n"
     ]
    }
   ],
   "source": [
    "### xml을 DataFrame으로 변환하기 ###\n",
    "import os\n",
    "import xml.etree.ElementTree as et\n",
    "\n",
    "# XML parsing\n",
    "root = et.fromstring(response.text)\n",
    "\n",
    "for item in root.iter(\"item\"):\n",
    "    # 항구청명\n",
    "    harbor = item.findtext(\"prtAgNm\")\n",
    "    # 선박국가명\n",
    "    country = item.findtext(\"vsslNltyNm\")\n",
    "    # 입항년도\n",
    "    etrypt = item.findtext(\"etryptYear\")\n",
    "    # 최초출항지항구명\n",
    "    f_depart = item.findtext(\"frstDpmprtPrtNm\")\n",
    "    # 전출항지항구명\n",
    "    l_depart = item.findtext(\"prvsDpmprtPrtNm\")\n",
    "    # 차출항지항구명\n",
    "    n_depart = item.findtext(\"nxlnptPrtNm\")\n",
    "    # 목적지국가항구명\n",
    "    g_arrival = item.findtext(\"dstnPrtNm\")\n",
    "    for detail in item.iter(\"detail\"):\n",
    "        etryptDt = detail.findtext(\"etryptDt\")\n",
    "    print(f\"{harbor}, {country}, {etrypt}, {f_depart}, {l_depart}, {n_depart}, {g_arrival}, {etryptDt}\")"
   ]
  },
  {
   "cell_type": "markdown",
   "id": "0edc4841",
   "metadata": {},
   "source": [
    "공공데이터포털 \n",
    "- 인천항만공사_인천항_선박_AIS\n",
    "    - xml 파일\n",
    "    - xml 파일의 경우 Tree 형태의 객체이다.\n",
    "    - 해당 경로를 찾아들어가서 원하는 정보를 뽑는다.\n",
    "    - 확인 결과 크게 쓸모 있는 거 같진 않다. 출항 시간, 입항 시간 정보가 들쭉날쭉하게 입력된 것을 봤다."
   ]
  },
  {
   "cell_type": "code",
   "execution_count": 1,
   "id": "abba1e5f",
   "metadata": {},
   "outputs": [],
   "source": [
    "import requests\n",
    "encoding = \"fQmSb5YeXYPiNKALK04XK5eJcw8J2Dqms4SapBCTLJlxwEqcT2Z4fC1Bquod%2BxXjlDKrFT%2Bvu3qsLzFt00GoBQ%3D%3D\"\n",
    "decoding = \"fQmSb5YeXYPiNKALK04XK5eJcw8J2Dqms4SapBCTLJlxwEqcT2Z4fC1Bquod+xXjlDKrFT+vu3qsLzFt00GoBQ==\"\n",
    "\n",
    "# decoding key가 먹힌다.\n",
    "url = 'https://opendata.icpa.or.kr/OpenAPI/service/ipaAISOpenData/getAISData'\n",
    "params ={'serviceKey' : decoding, 'pageNo' : '10', 'numOfRows' : '2' }\n",
    "\n",
    "response = requests.get(url, params=params)"
   ]
  },
  {
   "cell_type": "code",
   "execution_count": 7,
   "id": "9e4ce3c7",
   "metadata": {},
   "outputs": [
    {
     "data": {
      "text/plain": [
       "[]"
      ]
     },
     "execution_count": 7,
     "metadata": {},
     "output_type": "execute_result"
    }
   ],
   "source": [
    "### xml을 DataFrame으로 변환하기 ###\n",
    "import os\n",
    "import xml.etree.ElementTree as et\n",
    "\n",
    "# XML parsing\n",
    "root = et.fromstring(response.text)\n",
    "root.findall(\"GetAISDataVO\")"
   ]
  },
  {
   "cell_type": "code",
   "execution_count": 20,
   "id": "cf05e176",
   "metadata": {},
   "outputs": [
    {
     "name": "stdout",
     "output_type": "stream",
     "text": [
      "b\"<?xml version='1.0' encoding='UTF-8'?><GetAISDataResponse><body/><header><resultCode>99</resultCode><resultMsg>Cannot create PoolableConnectionFactory (Cannot connect to a broker[CAS INFO-192.168.21.135:33000,0],[SESSION-0],[URL-jdbc:cubrid:192.168.21.135:33000:ais:dba:********:?charset=utf-8].)</resultMsg></header></GetAISDataResponse>\"\n"
     ]
    }
   ],
   "source": [
    "import requests\n",
    "\n",
    "url = 'https://opendata.icpa.or.kr/OpenAPI/service/ipaAISOpenData/getAISData'\n",
    "params ={'serviceKey' : decoding, 'pageNo' : '1', 'numOfRows' : '1' }\n",
    "\n",
    "response = requests.get(url, params=params)\n",
    "print(response.content)"
   ]
  },
  {
   "cell_type": "markdown",
   "id": "76873d13",
   "metadata": {},
   "source": [
    "AISHub.net\n",
    "- ais 데이터 오픈"
   ]
  },
  {
   "cell_type": "markdown",
   "id": "26c1e5ff",
   "metadata": {},
   "source": [
    "aisstream.io\n",
    "- AIS 실시간 데이터 수집 가능"
   ]
  },
  {
   "cell_type": "code",
   "execution_count": 3,
   "id": "295d6011",
   "metadata": {},
   "outputs": [
    {
     "name": "stdout",
     "output_type": "stream",
     "text": [
      "True\n"
     ]
    }
   ],
   "source": [
    "print(asyncio.get_running_loop().is_running())"
   ]
  },
  {
   "cell_type": "code",
   "execution_count": 6,
   "id": "0ba62f10",
   "metadata": {},
   "outputs": [],
   "source": [
    "loop = asyncio.get_event_loop()\n",
    "loop.stop()"
   ]
  },
  {
   "cell_type": "code",
   "execution_count": 1,
   "id": "bea9216c",
   "metadata": {},
   "outputs": [
    {
     "ename": "RuntimeError",
     "evalue": "asyncio.run() cannot be called from a running event loop",
     "output_type": "error",
     "traceback": [
      "\u001b[1;31m---------------------------------------------------------------------------\u001b[0m",
      "\u001b[1;31mRuntimeError\u001b[0m                              Traceback (most recent call last)",
      "\u001b[1;32m~\\AppData\\Local\\Temp\\ipykernel_12984\\3950816348.py\u001b[0m in \u001b[0;36m<module>\u001b[1;34m\u001b[0m\n\u001b[0;32m     22\u001b[0m \u001b[1;33m\u001b[0m\u001b[0m\n\u001b[0;32m     23\u001b[0m \u001b[1;32mif\u001b[0m \u001b[0m__name__\u001b[0m \u001b[1;33m==\u001b[0m \u001b[1;34m\"__main__\"\u001b[0m\u001b[1;33m:\u001b[0m\u001b[1;33m\u001b[0m\u001b[1;33m\u001b[0m\u001b[0m\n\u001b[1;32m---> 24\u001b[1;33m     \u001b[0masyncio\u001b[0m\u001b[1;33m.\u001b[0m\u001b[0mrun\u001b[0m\u001b[1;33m(\u001b[0m\u001b[0mconnect_ais_stream\u001b[0m\u001b[1;33m(\u001b[0m\u001b[1;33m)\u001b[0m\u001b[1;33m)\u001b[0m\u001b[1;33m\u001b[0m\u001b[1;33m\u001b[0m\u001b[0m\n\u001b[0m",
      "\u001b[1;32m~\\anaconda3\\lib\\asyncio\\runners.py\u001b[0m in \u001b[0;36mrun\u001b[1;34m(main, debug)\u001b[0m\n\u001b[0;32m     31\u001b[0m     \"\"\"\n\u001b[0;32m     32\u001b[0m     \u001b[1;32mif\u001b[0m \u001b[0mevents\u001b[0m\u001b[1;33m.\u001b[0m\u001b[0m_get_running_loop\u001b[0m\u001b[1;33m(\u001b[0m\u001b[1;33m)\u001b[0m \u001b[1;32mis\u001b[0m \u001b[1;32mnot\u001b[0m \u001b[1;32mNone\u001b[0m\u001b[1;33m:\u001b[0m\u001b[1;33m\u001b[0m\u001b[1;33m\u001b[0m\u001b[0m\n\u001b[1;32m---> 33\u001b[1;33m         raise RuntimeError(\n\u001b[0m\u001b[0;32m     34\u001b[0m             \"asyncio.run() cannot be called from a running event loop\")\n\u001b[0;32m     35\u001b[0m \u001b[1;33m\u001b[0m\u001b[0m\n",
      "\u001b[1;31mRuntimeError\u001b[0m: asyncio.run() cannot be called from a running event loop"
     ]
    }
   ],
   "source": [
    "import asyncio\n",
    "import websockets\n",
    "import json\n",
    "from datetime import datetime, timezone\n",
    "\n",
    "async def connect_ais_stream():\n",
    "\n",
    "    async with websockets.connect(\"wss://stream.aisstream.io/v0/stream\") as websocket:\n",
    "        subscribe_message = {\"APIKey\": \"372161672e9cfdac9ddd1100a4485028ee5e3acf\", \"BoundingBoxes\": [[[-180, -90], [180, 90]]]}\n",
    "\n",
    "        subscribe_message_json = json.dumps(subscribe_message)\n",
    "        await websocket.send(subscribe_message_json)\n",
    "\n",
    "        async for message_json in websocket:\n",
    "            message = json.loads(message_json)\n",
    "            message_type = message[\"MessageType\"]\n",
    "\n",
    "            if message_type == \"PositionReport\":\n",
    "                # the message parameter contains a key of the message type which contains the message itself\n",
    "                ais_message = message['Message']['PositionReport']\n",
    "                print(f\"[{datetime.now(timezone.utc)}] ShipId: {ais_message['UserID']} Latitude: {ais_message['Latitude']} Longitude: {ais_message['Longitude']}\")\n",
    "\n",
    "if __name__ == \"__main__\":\n",
    "    asyncio.run(connect_ais_stream())"
   ]
  },
  {
   "cell_type": "code",
   "execution_count": null,
   "id": "85b83fa8",
   "metadata": {},
   "outputs": [],
   "source": []
  }
 ],
 "metadata": {
  "kernelspec": {
   "display_name": "Python 3 (ipykernel)",
   "language": "python",
   "name": "python3"
  },
  "language_info": {
   "codemirror_mode": {
    "name": "ipython",
    "version": 3
   },
   "file_extension": ".py",
   "mimetype": "text/x-python",
   "name": "python",
   "nbconvert_exporter": "python",
   "pygments_lexer": "ipython3",
   "version": "3.9.13"
  }
 },
 "nbformat": 4,
 "nbformat_minor": 5
}
